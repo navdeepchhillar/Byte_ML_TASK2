import cv2
import numpy as np

# List to store points of the polygon
polygon_points = []
all_polygons = []  # List to store all polygons

# Mouse callback function to capture clicks and store coordinates
def get_polygon_coordinates(event, x, y, flags, param):
    global polygon_points

    if event == cv2.EVENT_LBUTTONDOWN:
        # Add point to the polygon points list
        polygon_points.append((x, y))
        print(f"Point added: {x}, {y}")

        # After 4 points, store the polygon and reset for new selection
        if len(polygon_points) == 4:
            all_polygons.append(np.array(polygon_points, np.int32))
            print(f"Polygon added: {polygon_points}")
            polygon_points.clear()  # Clear for the next selection

# Load the video and get the first frame to select the polygon
video_path = 'D:\\BYTE\\Machine Learning\\Task2\\Task2.mp4'
cap = cv2.VideoCapture(video_path)

if not cap.isOpened():
    print(f"Error: Could not open video {video_path}")
    exit()

ret, frame = cap.read()

if not ret:
    print("Error: Could not read the first frame.")
    exit()

# Get the original dimensions of the video frame
frame_height, frame_width = frame.shape[:2]

# Create a window with the same size as the video frame
cv2.namedWindow('Select Polygon Region', cv2.WINDOW_NORMAL)
cv2.resizeWindow('Select Polygon Region', frame_width, frame_height)

# Set mouse callback to capture polygon points
cv2.setMouseCallback('Select Polygon Region', get_polygon_coordinates)

print("Click to select points for the polygon. Press 'q' when done.")

while True:
    # Create a copy of the frame to draw on
    frame_copy = frame.copy()
    
    # Draw the selected points
    for point in polygon_points:
        cv2.circle(frame_copy, point, 5, (0, 255, 0), -1)  # Draw point in green

    # Draw already completed polygons
    for poly in all_polygons:
        cv2.polylines(frame_copy, [poly], isClosed=True, color=(0, 0, 255), thickness=2)  # Draw polygons in red

    # Draw the current polygon if there are at least 2 points
    if len(polygon_points) >= 2:
        cv2.polylines(frame_copy, [np.array(polygon_points)], isClosed=False, color=(255, 0, 0), thickness=2)  # Draw current selection in blue

    # Show the frame at its original size
    cv2.imshow('Select Polygon Region', frame_copy)

    # Press 'q' to break and get the points
    if cv2.waitKey(1) & 0xFF == ord('q'):
        break

# Close the window
cv2.destroyAllWindows()

# Print all final polygon coordinates
for i, poly in enumerate(all_polygons):
    print(f"Polygon {i + 1} Coordinates:", poly)

cap.release()
